{
 "cells": [
  {
   "cell_type": "markdown",
   "id": "dc3fca15-b891-4ccc-a4f9-338d0987406e",
   "metadata": {},
   "source": [
    "# Mnist Prédiction numérique manuscrite  "
   ]
  },
  {
   "cell_type": "markdown",
   "id": "94418dd3-fa96-408b-b6de-97fbe43fe24d",
   "metadata": {},
   "source": [
    "## Auteur  "
   ]
  },
  {
   "cell_type": "markdown",
   "id": "0d2f2c39-5136-492d-a238-9cdc9058877a",
   "metadata": {},
   "source": [
    "* Bilgenur OZDEMIR\n",
    "* Jiayin CHEN\n",
    "* Xuan Thu NGUYEN"
   ]
  },
  {
   "cell_type": "markdown",
   "id": "e392c400-4143-42eb-83c0-8f1f00dfd92f",
   "metadata": {},
   "source": [
    "## Présentation de Datasets Mnist"
   ]
  },
  {
   "cell_type": "markdown",
   "id": "0cff5c2c-b686-49b8-ac5d-a37a195de323",
   "metadata": {},
   "source": [
    "L'ensemble de données Mnist est un ensemble de données publiques de chiffres manuscrits, dont 50 % des données proviennent d'étudiants américains et les 50 % restants du personnel qui a collecté les données. L'ensemble des données se compose de trois parties : l'ensemble d'apprentissage comprend 55 000 données, l'ensemble de validation comprend 5 000 données et l'ensemble de test comprend 10 000 données. Avec cet ensemble de données, nous sommes parvenus à former un modèle d'apprentissage capable de reconnaître des chiffres manuscrits.  "
   ]
  },
  {
   "cell_type": "markdown",
   "id": "58e21f51-2376-4ebe-97a3-1f18ac3a6c9e",
   "metadata": {},
   "source": [
    "### Structure de l'ensemble de données MNist  "
   ]
  },
  {
   "cell_type": "markdown",
   "id": "52ffd237-aa70-489b-a9ca-20b0f2515714",
   "metadata": {},
   "source": [
    "L'ensemble de données MNIST contient 70 000 (60 000+10 000) échantillons, dont 60 000 échantillons de formation et 10 000 échantillons de test, chacun ayant une taille de pixel de 28*28.\n",
    "\n",
    "![Mnist Structure 3 * 3](source/img/mnist-33.png \"Mnist Structure 3 * 3\")"
   ]
  },
  {
   "cell_type": "markdown",
   "id": "6d8ddae1-1f7c-46a2-b9e1-6c38f25e3749",
   "metadata": {},
   "source": [
    "## Préliminaire"
   ]
  },
  {
   "cell_type": "markdown",
   "id": "b1b47acf-ff39-4733-8c14-fd61778c84ee",
   "metadata": {},
   "source": [
    "Avant de commencer, nous devons préparer notre environnement de programmation à l'avance, tout notre code est fait à travers Python, mais nous devons ajouter quelques paquets obligatoires.\n",
    "\n",
    "* tensorflow: Utiliser le CNN de tensorflow pour nous aider à entraîner le modèle, et dire keras pour extraire directement les données dont nous avons besoin de Mnist.\n",
    "  >`pip3 install tensorflow`\n",
    "\n",
    "* PyQt5 suite(PyQt5, PyQt5-sip, PyQt5-tools): Générer une interface graphique (GUI) qui nous permette d'écrire à la main une valeur numérique par le biais d'un dessin à la souris, puis utiliser notre modèle entraîné pour déterminer le nombre que nous avons écrit.\n",
    "  >`pip3 install PyQt5`\n",
    "  >\n",
    "  >`pip3 install PyQt5-sip`\n",
    "  >\n",
    "  >`pip3 install PyQt5-tools`"
   ]
  },
  {
   "cell_type": "markdown",
   "id": "af34d203-031c-4ace-8fb9-9b3e9a622b5d",
   "metadata": {},
   "source": [
    "## Modèle de formation"
   ]
  },
  {
   "cell_type": "markdown",
   "id": "8578b057-a990-4e6b-b2bd-0b87cfb249b6",
   "metadata": {},
   "source": [
    "### Idées pour la formation au modèle\n"
   ]
  },
  {
   "cell_type": "markdown",
   "id": "ed0a8f6b-91c1-4f66-aba9-a23dbd6113bf",
   "metadata": {},
   "source": [
    "* Chaque échantillon a ***28 * 28*** points de pixels, l'échantillon d'entrée a ***28 * 28 = 784*** valeurs de pixels.\n",
    "* La couche d'entrée est donc fixée à ***784 nœuds***.\n",
    "* La couche cachée est définie avec autant de nœuds que possible à la puissance ***2***, soit ***128 nœuds***, et la fonction d'activation RuLu est utilisée.\n",
    "* La couche de sortie est utilisée pour produire le résultat de la reconnaissance des ***nombres 0-9***, toutes les couches de sortie sont réglées sur ***10 nœuds***.\n",
    "![Mnist CNN](https://www.mdpi.com/mathematics/mathematics-11-01141/article_deploy/html/images/mathematics-11-01141-g001.png \"CNN\")"
   ]
  },
  {
   "cell_type": "markdown",
   "id": "b625a7d0-457c-44a2-a965-ef992c12b590",
   "metadata": {},
   "source": [
    "### Entraîner le modèle"
   ]
  },
  {
   "cell_type": "markdown",
   "id": "59c75ec9-803e-45ea-a94f-03593769d8db",
   "metadata": {},
   "source": [
    "#### Importer les paquets de dépendances nécessaires"
   ]
  },
  {
   "cell_type": "code",
   "execution_count": 1,
   "id": "7a30af57-fd81-4fd1-9c5f-781b0e3311a5",
   "metadata": {},
   "outputs": [],
   "source": [
    "import tensorflow as tf\n",
    "import matplotlib.pyplot as plt\n",
    "import numpy as np\n",
    "\n",
    "import time\n",
    "\n",
    "from tensorflow import keras\n",
    "\n",
    "from keras.models import Sequential\n",
    "from keras.layers import Dense, Dropout, Flatten, Conv2D, MaxPool2D, Input\n",
    "from keras.utils import to_categorical"
   ]
  },
  {
   "cell_type": "markdown",
   "id": "68f972af-80a3-47dc-af1a-c6d6a1e84aa4",
   "metadata": {},
   "source": [
    "#### Importation de données via keras"
   ]
  },
  {
   "cell_type": "code",
   "execution_count": 2,
   "id": "a7063a3f-42b4-4d0c-8d8d-b922a2eb1389",
   "metadata": {},
   "outputs": [
    {
     "name": "stdout",
     "output_type": "stream",
     "text": [
      "\n",
      " train_x:(60000, 28, 28), train_y:(60000,), test_x:(10000, 28, 28), test_y:(10000,)\n"
     ]
    }
   ],
   "source": [
    "mnist = keras.datasets.mnist\n",
    "(x_train,y_train),(x_test,y_test) = mnist.load_data()\n",
    "print('\\n train_x:%s, train_y:%s, test_x:%s, test_y:%s'%(x_train.shape,y_train.shape,x_test.shape,y_test.shape))"
   ]
  },
  {
   "cell_type": "markdown",
   "id": "b13c4c83-809c-4018-967c-cd708711b864",
   "metadata": {},
   "source": [
    "Vous pouvez voir ici la structure de l'ensemble de données : train_x contient 60000 images numériques de 28 * 28 pixels et train_y a 60000 valeurs étiquetées correspondantes et est utilisé pour entraîner du modèle. test_x et test_y sont identiques et sont utilisés pour tester le modèle."
   ]
  },
  {
   "cell_type": "markdown",
   "id": "c3754c12-93c1-45c0-8dcc-f1cc76261ad6",
   "metadata": {},
   "source": [
    "#### Prétraitement des données"
   ]
  },
  {
   "cell_type": "code",
   "execution_count": 3,
   "id": "8649d8ad-308f-4b5d-88b9-347780ef5e27",
   "metadata": {},
   "outputs": [],
   "source": [
    "X_train4D = x_train.reshape(x_train.shape[0], 28, 28, 1).astype('float32')\n",
    "X_test4D = x_test.reshape(x_test.shape[0], 28, 28, 1).astype('float32')\n",
    "\n",
    "X_train4D_Normalize = X_train4D / 255 #  normalisation\n",
    "X_test4D_Normalize = X_test4D / 255\n",
    "\n",
    "y_trainOnehot = to_categorical(y_train)\n",
    "y_testOnehot = to_categorical(y_test)"
   ]
  },
  {
   "cell_type": "markdown",
   "id": "8edb39eb-f3a7-4ab8-b2cd-3b54e77de1cc",
   "metadata": {},
   "source": [
    "#### Modélisation"
   ]
  },
  {
   "cell_type": "code",
   "execution_count": 4,
   "id": "1ab57b6c-8902-4c98-b65e-c0747ff4802e",
   "metadata": {},
   "outputs": [
    {
     "data": {
      "text/html": [
       "<pre style=\"white-space:pre;overflow-x:auto;line-height:normal;font-family:Menlo,'DejaVu Sans Mono',consolas,'Courier New',monospace\"><span style=\"font-weight: bold\">Model: \"sequential\"</span>\n",
       "</pre>\n"
      ],
      "text/plain": [
       "\u001b[1mModel: \"sequential\"\u001b[0m\n"
      ]
     },
     "metadata": {},
     "output_type": "display_data"
    },
    {
     "data": {
      "text/html": [
       "<pre style=\"white-space:pre;overflow-x:auto;line-height:normal;font-family:Menlo,'DejaVu Sans Mono',consolas,'Courier New',monospace\">┏━━━━━━━━━━━━━━━━━━━━━━━━━━━━━━━━━━━━━━┳━━━━━━━━━━━━━━━━━━━━━━━━━━━━━┳━━━━━━━━━━━━━━━━━┓\n",
       "┃<span style=\"font-weight: bold\"> Layer (type)                         </span>┃<span style=\"font-weight: bold\"> Output Shape                </span>┃<span style=\"font-weight: bold\">         Param # </span>┃\n",
       "┡━━━━━━━━━━━━━━━━━━━━━━━━━━━━━━━━━━━━━━╇━━━━━━━━━━━━━━━━━━━━━━━━━━━━━╇━━━━━━━━━━━━━━━━━┩\n",
       "│ conv2d (<span style=\"color: #0087ff; text-decoration-color: #0087ff\">Conv2D</span>)                      │ (<span style=\"color: #00d7ff; text-decoration-color: #00d7ff\">None</span>, <span style=\"color: #00af00; text-decoration-color: #00af00\">28</span>, <span style=\"color: #00af00; text-decoration-color: #00af00\">28</span>, <span style=\"color: #00af00; text-decoration-color: #00af00\">16</span>)          │             <span style=\"color: #00af00; text-decoration-color: #00af00\">416</span> │\n",
       "├──────────────────────────────────────┼─────────────────────────────┼─────────────────┤\n",
       "│ max_pooling2d (<span style=\"color: #0087ff; text-decoration-color: #0087ff\">MaxPooling2D</span>)         │ (<span style=\"color: #00d7ff; text-decoration-color: #00d7ff\">None</span>, <span style=\"color: #00af00; text-decoration-color: #00af00\">14</span>, <span style=\"color: #00af00; text-decoration-color: #00af00\">14</span>, <span style=\"color: #00af00; text-decoration-color: #00af00\">16</span>)          │               <span style=\"color: #00af00; text-decoration-color: #00af00\">0</span> │\n",
       "├──────────────────────────────────────┼─────────────────────────────┼─────────────────┤\n",
       "│ dropout (<span style=\"color: #0087ff; text-decoration-color: #0087ff\">Dropout</span>)                    │ (<span style=\"color: #00d7ff; text-decoration-color: #00d7ff\">None</span>, <span style=\"color: #00af00; text-decoration-color: #00af00\">14</span>, <span style=\"color: #00af00; text-decoration-color: #00af00\">14</span>, <span style=\"color: #00af00; text-decoration-color: #00af00\">16</span>)          │               <span style=\"color: #00af00; text-decoration-color: #00af00\">0</span> │\n",
       "├──────────────────────────────────────┼─────────────────────────────┼─────────────────┤\n",
       "│ conv2d_1 (<span style=\"color: #0087ff; text-decoration-color: #0087ff\">Conv2D</span>)                    │ (<span style=\"color: #00d7ff; text-decoration-color: #00d7ff\">None</span>, <span style=\"color: #00af00; text-decoration-color: #00af00\">14</span>, <span style=\"color: #00af00; text-decoration-color: #00af00\">14</span>, <span style=\"color: #00af00; text-decoration-color: #00af00\">32</span>)          │          <span style=\"color: #00af00; text-decoration-color: #00af00\">12,832</span> │\n",
       "├──────────────────────────────────────┼─────────────────────────────┼─────────────────┤\n",
       "│ max_pooling2d_1 (<span style=\"color: #0087ff; text-decoration-color: #0087ff\">MaxPooling2D</span>)       │ (<span style=\"color: #00d7ff; text-decoration-color: #00d7ff\">None</span>, <span style=\"color: #00af00; text-decoration-color: #00af00\">7</span>, <span style=\"color: #00af00; text-decoration-color: #00af00\">7</span>, <span style=\"color: #00af00; text-decoration-color: #00af00\">32</span>)            │               <span style=\"color: #00af00; text-decoration-color: #00af00\">0</span> │\n",
       "├──────────────────────────────────────┼─────────────────────────────┼─────────────────┤\n",
       "│ dropout_1 (<span style=\"color: #0087ff; text-decoration-color: #0087ff\">Dropout</span>)                  │ (<span style=\"color: #00d7ff; text-decoration-color: #00d7ff\">None</span>, <span style=\"color: #00af00; text-decoration-color: #00af00\">7</span>, <span style=\"color: #00af00; text-decoration-color: #00af00\">7</span>, <span style=\"color: #00af00; text-decoration-color: #00af00\">32</span>)            │               <span style=\"color: #00af00; text-decoration-color: #00af00\">0</span> │\n",
       "├──────────────────────────────────────┼─────────────────────────────┼─────────────────┤\n",
       "│ conv2d_2 (<span style=\"color: #0087ff; text-decoration-color: #0087ff\">Conv2D</span>)                    │ (<span style=\"color: #00d7ff; text-decoration-color: #00d7ff\">None</span>, <span style=\"color: #00af00; text-decoration-color: #00af00\">7</span>, <span style=\"color: #00af00; text-decoration-color: #00af00\">7</span>, <span style=\"color: #00af00; text-decoration-color: #00af00\">64</span>)            │          <span style=\"color: #00af00; text-decoration-color: #00af00\">51,264</span> │\n",
       "├──────────────────────────────────────┼─────────────────────────────┼─────────────────┤\n",
       "│ conv2d_3 (<span style=\"color: #0087ff; text-decoration-color: #0087ff\">Conv2D</span>)                    │ (<span style=\"color: #00d7ff; text-decoration-color: #00d7ff\">None</span>, <span style=\"color: #00af00; text-decoration-color: #00af00\">7</span>, <span style=\"color: #00af00; text-decoration-color: #00af00\">7</span>, <span style=\"color: #00af00; text-decoration-color: #00af00\">128</span>)           │         <span style=\"color: #00af00; text-decoration-color: #00af00\">204,928</span> │\n",
       "├──────────────────────────────────────┼─────────────────────────────┼─────────────────┤\n",
       "│ max_pooling2d_2 (<span style=\"color: #0087ff; text-decoration-color: #0087ff\">MaxPooling2D</span>)       │ (<span style=\"color: #00d7ff; text-decoration-color: #00d7ff\">None</span>, <span style=\"color: #00af00; text-decoration-color: #00af00\">3</span>, <span style=\"color: #00af00; text-decoration-color: #00af00\">3</span>, <span style=\"color: #00af00; text-decoration-color: #00af00\">128</span>)           │               <span style=\"color: #00af00; text-decoration-color: #00af00\">0</span> │\n",
       "├──────────────────────────────────────┼─────────────────────────────┼─────────────────┤\n",
       "│ dropout_2 (<span style=\"color: #0087ff; text-decoration-color: #0087ff\">Dropout</span>)                  │ (<span style=\"color: #00d7ff; text-decoration-color: #00d7ff\">None</span>, <span style=\"color: #00af00; text-decoration-color: #00af00\">3</span>, <span style=\"color: #00af00; text-decoration-color: #00af00\">3</span>, <span style=\"color: #00af00; text-decoration-color: #00af00\">128</span>)           │               <span style=\"color: #00af00; text-decoration-color: #00af00\">0</span> │\n",
       "├──────────────────────────────────────┼─────────────────────────────┼─────────────────┤\n",
       "│ flatten (<span style=\"color: #0087ff; text-decoration-color: #0087ff\">Flatten</span>)                    │ (<span style=\"color: #00d7ff; text-decoration-color: #00d7ff\">None</span>, <span style=\"color: #00af00; text-decoration-color: #00af00\">1152</span>)                │               <span style=\"color: #00af00; text-decoration-color: #00af00\">0</span> │\n",
       "├──────────────────────────────────────┼─────────────────────────────┼─────────────────┤\n",
       "│ dense (<span style=\"color: #0087ff; text-decoration-color: #0087ff\">Dense</span>)                        │ (<span style=\"color: #00d7ff; text-decoration-color: #00d7ff\">None</span>, <span style=\"color: #00af00; text-decoration-color: #00af00\">128</span>)                 │         <span style=\"color: #00af00; text-decoration-color: #00af00\">147,584</span> │\n",
       "├──────────────────────────────────────┼─────────────────────────────┼─────────────────┤\n",
       "│ dropout_3 (<span style=\"color: #0087ff; text-decoration-color: #0087ff\">Dropout</span>)                  │ (<span style=\"color: #00d7ff; text-decoration-color: #00d7ff\">None</span>, <span style=\"color: #00af00; text-decoration-color: #00af00\">128</span>)                 │               <span style=\"color: #00af00; text-decoration-color: #00af00\">0</span> │\n",
       "├──────────────────────────────────────┼─────────────────────────────┼─────────────────┤\n",
       "│ dense_1 (<span style=\"color: #0087ff; text-decoration-color: #0087ff\">Dense</span>)                      │ (<span style=\"color: #00d7ff; text-decoration-color: #00d7ff\">None</span>, <span style=\"color: #00af00; text-decoration-color: #00af00\">10</span>)                  │           <span style=\"color: #00af00; text-decoration-color: #00af00\">1,290</span> │\n",
       "└──────────────────────────────────────┴─────────────────────────────┴─────────────────┘\n",
       "</pre>\n"
      ],
      "text/plain": [
       "┏━━━━━━━━━━━━━━━━━━━━━━━━━━━━━━━━━━━━━━┳━━━━━━━━━━━━━━━━━━━━━━━━━━━━━┳━━━━━━━━━━━━━━━━━┓\n",
       "┃\u001b[1m \u001b[0m\u001b[1mLayer (type)                        \u001b[0m\u001b[1m \u001b[0m┃\u001b[1m \u001b[0m\u001b[1mOutput Shape               \u001b[0m\u001b[1m \u001b[0m┃\u001b[1m \u001b[0m\u001b[1m        Param #\u001b[0m\u001b[1m \u001b[0m┃\n",
       "┡━━━━━━━━━━━━━━━━━━━━━━━━━━━━━━━━━━━━━━╇━━━━━━━━━━━━━━━━━━━━━━━━━━━━━╇━━━━━━━━━━━━━━━━━┩\n",
       "│ conv2d (\u001b[38;5;33mConv2D\u001b[0m)                      │ (\u001b[38;5;45mNone\u001b[0m, \u001b[38;5;34m28\u001b[0m, \u001b[38;5;34m28\u001b[0m, \u001b[38;5;34m16\u001b[0m)          │             \u001b[38;5;34m416\u001b[0m │\n",
       "├──────────────────────────────────────┼─────────────────────────────┼─────────────────┤\n",
       "│ max_pooling2d (\u001b[38;5;33mMaxPooling2D\u001b[0m)         │ (\u001b[38;5;45mNone\u001b[0m, \u001b[38;5;34m14\u001b[0m, \u001b[38;5;34m14\u001b[0m, \u001b[38;5;34m16\u001b[0m)          │               \u001b[38;5;34m0\u001b[0m │\n",
       "├──────────────────────────────────────┼─────────────────────────────┼─────────────────┤\n",
       "│ dropout (\u001b[38;5;33mDropout\u001b[0m)                    │ (\u001b[38;5;45mNone\u001b[0m, \u001b[38;5;34m14\u001b[0m, \u001b[38;5;34m14\u001b[0m, \u001b[38;5;34m16\u001b[0m)          │               \u001b[38;5;34m0\u001b[0m │\n",
       "├──────────────────────────────────────┼─────────────────────────────┼─────────────────┤\n",
       "│ conv2d_1 (\u001b[38;5;33mConv2D\u001b[0m)                    │ (\u001b[38;5;45mNone\u001b[0m, \u001b[38;5;34m14\u001b[0m, \u001b[38;5;34m14\u001b[0m, \u001b[38;5;34m32\u001b[0m)          │          \u001b[38;5;34m12,832\u001b[0m │\n",
       "├──────────────────────────────────────┼─────────────────────────────┼─────────────────┤\n",
       "│ max_pooling2d_1 (\u001b[38;5;33mMaxPooling2D\u001b[0m)       │ (\u001b[38;5;45mNone\u001b[0m, \u001b[38;5;34m7\u001b[0m, \u001b[38;5;34m7\u001b[0m, \u001b[38;5;34m32\u001b[0m)            │               \u001b[38;5;34m0\u001b[0m │\n",
       "├──────────────────────────────────────┼─────────────────────────────┼─────────────────┤\n",
       "│ dropout_1 (\u001b[38;5;33mDropout\u001b[0m)                  │ (\u001b[38;5;45mNone\u001b[0m, \u001b[38;5;34m7\u001b[0m, \u001b[38;5;34m7\u001b[0m, \u001b[38;5;34m32\u001b[0m)            │               \u001b[38;5;34m0\u001b[0m │\n",
       "├──────────────────────────────────────┼─────────────────────────────┼─────────────────┤\n",
       "│ conv2d_2 (\u001b[38;5;33mConv2D\u001b[0m)                    │ (\u001b[38;5;45mNone\u001b[0m, \u001b[38;5;34m7\u001b[0m, \u001b[38;5;34m7\u001b[0m, \u001b[38;5;34m64\u001b[0m)            │          \u001b[38;5;34m51,264\u001b[0m │\n",
       "├──────────────────────────────────────┼─────────────────────────────┼─────────────────┤\n",
       "│ conv2d_3 (\u001b[38;5;33mConv2D\u001b[0m)                    │ (\u001b[38;5;45mNone\u001b[0m, \u001b[38;5;34m7\u001b[0m, \u001b[38;5;34m7\u001b[0m, \u001b[38;5;34m128\u001b[0m)           │         \u001b[38;5;34m204,928\u001b[0m │\n",
       "├──────────────────────────────────────┼─────────────────────────────┼─────────────────┤\n",
       "│ max_pooling2d_2 (\u001b[38;5;33mMaxPooling2D\u001b[0m)       │ (\u001b[38;5;45mNone\u001b[0m, \u001b[38;5;34m3\u001b[0m, \u001b[38;5;34m3\u001b[0m, \u001b[38;5;34m128\u001b[0m)           │               \u001b[38;5;34m0\u001b[0m │\n",
       "├──────────────────────────────────────┼─────────────────────────────┼─────────────────┤\n",
       "│ dropout_2 (\u001b[38;5;33mDropout\u001b[0m)                  │ (\u001b[38;5;45mNone\u001b[0m, \u001b[38;5;34m3\u001b[0m, \u001b[38;5;34m3\u001b[0m, \u001b[38;5;34m128\u001b[0m)           │               \u001b[38;5;34m0\u001b[0m │\n",
       "├──────────────────────────────────────┼─────────────────────────────┼─────────────────┤\n",
       "│ flatten (\u001b[38;5;33mFlatten\u001b[0m)                    │ (\u001b[38;5;45mNone\u001b[0m, \u001b[38;5;34m1152\u001b[0m)                │               \u001b[38;5;34m0\u001b[0m │\n",
       "├──────────────────────────────────────┼─────────────────────────────┼─────────────────┤\n",
       "│ dense (\u001b[38;5;33mDense\u001b[0m)                        │ (\u001b[38;5;45mNone\u001b[0m, \u001b[38;5;34m128\u001b[0m)                 │         \u001b[38;5;34m147,584\u001b[0m │\n",
       "├──────────────────────────────────────┼─────────────────────────────┼─────────────────┤\n",
       "│ dropout_3 (\u001b[38;5;33mDropout\u001b[0m)                  │ (\u001b[38;5;45mNone\u001b[0m, \u001b[38;5;34m128\u001b[0m)                 │               \u001b[38;5;34m0\u001b[0m │\n",
       "├──────────────────────────────────────┼─────────────────────────────┼─────────────────┤\n",
       "│ dense_1 (\u001b[38;5;33mDense\u001b[0m)                      │ (\u001b[38;5;45mNone\u001b[0m, \u001b[38;5;34m10\u001b[0m)                  │           \u001b[38;5;34m1,290\u001b[0m │\n",
       "└──────────────────────────────────────┴─────────────────────────────┴─────────────────┘\n"
      ]
     },
     "metadata": {},
     "output_type": "display_data"
    },
    {
     "data": {
      "text/html": [
       "<pre style=\"white-space:pre;overflow-x:auto;line-height:normal;font-family:Menlo,'DejaVu Sans Mono',consolas,'Courier New',monospace\"><span style=\"font-weight: bold\"> Total params: </span><span style=\"color: #00af00; text-decoration-color: #00af00\">418,314</span> (1.60 MB)\n",
       "</pre>\n"
      ],
      "text/plain": [
       "\u001b[1m Total params: \u001b[0m\u001b[38;5;34m418,314\u001b[0m (1.60 MB)\n"
      ]
     },
     "metadata": {},
     "output_type": "display_data"
    },
    {
     "data": {
      "text/html": [
       "<pre style=\"white-space:pre;overflow-x:auto;line-height:normal;font-family:Menlo,'DejaVu Sans Mono',consolas,'Courier New',monospace\"><span style=\"font-weight: bold\"> Trainable params: </span><span style=\"color: #00af00; text-decoration-color: #00af00\">418,314</span> (1.60 MB)\n",
       "</pre>\n"
      ],
      "text/plain": [
       "\u001b[1m Trainable params: \u001b[0m\u001b[38;5;34m418,314\u001b[0m (1.60 MB)\n"
      ]
     },
     "metadata": {},
     "output_type": "display_data"
    },
    {
     "data": {
      "text/html": [
       "<pre style=\"white-space:pre;overflow-x:auto;line-height:normal;font-family:Menlo,'DejaVu Sans Mono',consolas,'Courier New',monospace\"><span style=\"font-weight: bold\"> Non-trainable params: </span><span style=\"color: #00af00; text-decoration-color: #00af00\">0</span> (0.00 B)\n",
       "</pre>\n"
      ],
      "text/plain": [
       "\u001b[1m Non-trainable params: \u001b[0m\u001b[38;5;34m0\u001b[0m (0.00 B)\n"
      ]
     },
     "metadata": {},
     "output_type": "display_data"
    },
    {
     "name": "stdout",
     "output_type": "stream",
     "text": [
      "None\n"
     ]
    }
   ],
   "source": [
    "model = Sequential()\n",
    "\n",
    "model.add(Input(shape=(28, 28, 1)))\n",
    "\n",
    "# 1ère couche de convolution\n",
    "model.add(Conv2D(filters=16, kernel_size=(5, 5), padding='same', activation='relu'))\n",
    "model.add(MaxPool2D(pool_size=(2, 2)))  # 1ère couche d'accumulation / Max poolling\n",
    "model.add(Dropout(0.25))\n",
    "\n",
    "# 2ème couche de convolution\n",
    "model.add(Conv2D(filters=32, kernel_size=(5, 5), padding='same', activation='relu'))\n",
    "model.add(MaxPool2D(pool_size=(2, 2)))  # 2ème couche d'accumulation / Max poolling\n",
    "model.add(Dropout(0.25))\n",
    "\n",
    "# Plus de convolution layers\n",
    "model.add(Conv2D(filters=64, kernel_size=(5, 5), padding='same', activation='relu'))\n",
    "model.add(Conv2D(filters=128, kernel_size=(5, 5), padding='same', activation='relu'))\n",
    "model.add(MaxPool2D(pool_size=(2, 2)))\n",
    "model.add(Dropout(0.25))\n",
    "\n",
    "# Flatten + Dense layers\n",
    "model.add(Flatten())\n",
    "model.add(Dense(128, activation='relu'))\n",
    "model.add(Dropout(0.25))\n",
    "model.add(Dense(10, activation='softmax'))\n",
    "\n",
    "# Afficher le résumé du modèle\n",
    "print(model.summary())"
   ]
  },
  {
   "cell_type": "markdown",
   "id": "b3ae547c-f19c-4d66-bbde-2561df536e3e",
   "metadata": {},
   "source": [
    "#### Configurer la méthode d'apprentissage du modèle"
   ]
  },
  {
   "cell_type": "code",
   "execution_count": 5,
   "id": "ef4da881-9e21-461a-9790-09f268cc5a96",
   "metadata": {},
   "outputs": [],
   "source": [
    "model.compile(loss='categorical_crossentropy',\n",
    "              optimizer='adam',\n",
    "              metrics=['accuracy'])"
   ]
  },
  {
   "cell_type": "markdown",
   "id": "35688289-59ae-447a-9988-122c9050e12a",
   "metadata": {},
   "source": [
    "#### Entraîner le modèle"
   ]
  },
  {
   "cell_type": "markdown",
   "id": "8baf6270-b038-46fd-b691-aa750e5da04a",
   "metadata": {},
   "source": [
    "La taille du lot d'apprentissage est de 64 avec 5 itérations et un ratio d'ensemble de test de 0,2, soit 48 000 données d'ensemble d'apprentissage et 12 000 données d'ensemble de test."
   ]
  },
  {
   "cell_type": "code",
   "execution_count": 6,
   "id": "c77baac3-ef77-4c2a-8654-d3ae473ddf6e",
   "metadata": {},
   "outputs": [
    {
     "name": "stdout",
     "output_type": "stream",
     "text": [
      "------------\n",
      "Commencer à 18-12-2024 22:19:19\n",
      "Epoch 1/10\n",
      "160/160 - 8s - 51ms/step - accuracy: 0.8294 - loss: 0.5133 - val_accuracy: 0.9634 - val_loss: 0.1123\n",
      "Epoch 2/10\n",
      "160/160 - 5s - 34ms/step - accuracy: 0.9609 - loss: 0.1282 - val_accuracy: 0.9796 - val_loss: 0.0655\n",
      "Epoch 3/10\n",
      "160/160 - 5s - 34ms/step - accuracy: 0.9730 - loss: 0.0888 - val_accuracy: 0.9858 - val_loss: 0.0465\n",
      "Epoch 4/10\n",
      "160/160 - 5s - 34ms/step - accuracy: 0.9793 - loss: 0.0692 - val_accuracy: 0.9876 - val_loss: 0.0405\n",
      "Epoch 5/10\n",
      "160/160 - 6s - 35ms/step - accuracy: 0.9814 - loss: 0.0609 - val_accuracy: 0.9887 - val_loss: 0.0386\n",
      "Epoch 6/10\n",
      "160/160 - 6s - 35ms/step - accuracy: 0.9842 - loss: 0.0499 - val_accuracy: 0.9895 - val_loss: 0.0364\n",
      "Epoch 7/10\n",
      "160/160 - 5s - 34ms/step - accuracy: 0.9863 - loss: 0.0436 - val_accuracy: 0.9911 - val_loss: 0.0307\n",
      "Epoch 8/10\n",
      "160/160 - 6s - 34ms/step - accuracy: 0.9870 - loss: 0.0401 - val_accuracy: 0.9901 - val_loss: 0.0359\n",
      "Epoch 9/10\n",
      "160/160 - 6s - 35ms/step - accuracy: 0.9886 - loss: 0.0366 - val_accuracy: 0.9908 - val_loss: 0.0338\n",
      "Epoch 10/10\n",
      "160/160 - 6s - 34ms/step - accuracy: 0.9908 - loss: 0.0305 - val_accuracy: 0.9915 - val_loss: 0.0294\n",
      "------------\n",
      "Terminer à 18-12-2024 22:20:17\n"
     ]
    }
   ],
   "source": [
    "print('------------')\n",
    "nowtime = time.strftime('%d-%m-%Y %H:%M:%S')\n",
    "print('Commencer à '+str(nowtime))\n",
    "\n",
    "train_history = model.fit(x=X_train4D_Normalize,\n",
    "                          y=y_trainOnehot,\n",
    "                          validation_split=0.2,\n",
    "                          batch_size=300,\n",
    "                          epochs=10,\n",
    "                          verbose=2)\n",
    "\n",
    "print('------------')\n",
    "nowtime = time.strftime('%d-%m-%Y %H:%M:%S')\n",
    "print('Terminer à '+str(nowtime))"
   ]
  },
  {
   "cell_type": "markdown",
   "id": "da872d7d-acba-4501-a634-c10e302a0d5b",
   "metadata": {},
   "source": [
    "#### Evaluer modèle"
   ]
  },
  {
   "cell_type": "code",
   "execution_count": 7,
   "id": "8d98bb80-59b3-49c6-848f-db3fa4b9103a",
   "metadata": {},
   "outputs": [
    {
     "name": "stdout",
     "output_type": "stream",
     "text": [
      "\u001b[1m313/313\u001b[0m \u001b[32m━━━━━━━━━━━━━━━━━━━━\u001b[0m\u001b[37m\u001b[0m \u001b[1m2s\u001b[0m 4ms/step - accuracy: 0.9898 - loss: 0.0309\n"
     ]
    },
    {
     "data": {
      "text/plain": [
       "[0.023088602349162102, 0.9923999905586243]"
      ]
     },
     "execution_count": 7,
     "metadata": {},
     "output_type": "execute_result"
    }
   ],
   "source": [
    "model.evaluate(X_test4D_Normalize,y_testOnehot)"
   ]
  },
  {
   "cell_type": "markdown",
   "id": "b1a7b876-3f27-43d7-b5bd-f3a5749c0d25",
   "metadata": {},
   "source": [
    "#### Enresitrer le modèle"
   ]
  },
  {
   "cell_type": "code",
   "execution_count": 8,
   "id": "49447d26-cf87-453b-bee7-3de4a315027f",
   "metadata": {},
   "outputs": [],
   "source": [
    "model.save('save/modelMnist1.keras')"
   ]
  },
  {
   "cell_type": "markdown",
   "id": "95928df1-6e29-46f7-9a38-2cdf77c92a0d",
   "metadata": {},
   "source": [
    "#### Visibilisation le resultat"
   ]
  },
  {
   "cell_type": "code",
   "execution_count": 9,
   "id": "847edff1-019b-445c-bb9f-db20cb584d06",
   "metadata": {
    "scrolled": true
   },
   "outputs": [
    {
     "name": "stdout",
     "output_type": "stream",
     "text": [
      "{'accuracy': [0.8293958306312561, 0.960854172706604, 0.9730208516120911, 0.9793333411216736, 0.9813958406448364, 0.98416668176651, 0.9862708449363708, 0.9869999885559082, 0.9885625243186951, 0.9908124804496765], 'loss': [0.5132873058319092, 0.12820731103420258, 0.0887840986251831, 0.06922690570354462, 0.06092151999473572, 0.04987291619181633, 0.043565016239881516, 0.04008106142282486, 0.036570172756910324, 0.030469359830021858], 'val_accuracy': [0.9634166955947876, 0.9795833230018616, 0.9858333468437195, 0.987583339214325, 0.9886666536331177, 0.9894999861717224, 0.9910833239555359, 0.9900833368301392, 0.9907500147819519, 0.9915000200271606], 'val_loss': [0.11231612414121628, 0.06550829857587814, 0.04653783142566681, 0.0404505729675293, 0.03858008608222008, 0.036373071372509, 0.03071942925453186, 0.035857703536748886, 0.03375893831253052, 0.029433006420731544]}\n",
      "\u001b[1m1/1\u001b[0m \u001b[32m━━━━━━━━━━━━━━━━━━━━\u001b[0m\u001b[37m\u001b[0m \u001b[1m0s\u001b[0m 101ms/step\n",
      "\u001b[1m1/1\u001b[0m \u001b[32m━━━━━━━━━━━━━━━━━━━━\u001b[0m\u001b[37m\u001b[0m \u001b[1m0s\u001b[0m 26ms/step\n",
      "\u001b[1m1/1\u001b[0m \u001b[32m━━━━━━━━━━━━━━━━━━━━\u001b[0m\u001b[37m\u001b[0m \u001b[1m0s\u001b[0m 24ms/step\n",
      "\u001b[1m1/1\u001b[0m \u001b[32m━━━━━━━━━━━━━━━━━━━━\u001b[0m\u001b[37m\u001b[0m \u001b[1m0s\u001b[0m 22ms/step\n",
      "\u001b[1m1/1\u001b[0m \u001b[32m━━━━━━━━━━━━━━━━━━━━\u001b[0m\u001b[37m\u001b[0m \u001b[1m0s\u001b[0m 16ms/step\n",
      "\u001b[1m1/1\u001b[0m \u001b[32m━━━━━━━━━━━━━━━━━━━━\u001b[0m\u001b[37m\u001b[0m \u001b[1m0s\u001b[0m 23ms/step\n",
      "\u001b[1m1/1\u001b[0m \u001b[32m━━━━━━━━━━━━━━━━━━━━\u001b[0m\u001b[37m\u001b[0m \u001b[1m0s\u001b[0m 25ms/step\n",
      "\u001b[1m1/1\u001b[0m \u001b[32m━━━━━━━━━━━━━━━━━━━━\u001b[0m\u001b[37m\u001b[0m \u001b[1m0s\u001b[0m 26ms/step\n",
      "\u001b[1m1/1\u001b[0m \u001b[32m━━━━━━━━━━━━━━━━━━━━\u001b[0m\u001b[37m\u001b[0m \u001b[1m0s\u001b[0m 24ms/step\n",
      "\u001b[1m1/1\u001b[0m \u001b[32m━━━━━━━━━━━━━━━━━━━━\u001b[0m\u001b[37m\u001b[0m \u001b[1m0s\u001b[0m 25ms/step\n"
     ]
    },
    {
     "data": {
      "image/png": "[encoded data removed]",
      "text/plain": [
       "<Figure size 1000x300 with 2 Axes>"
      ]
     },
     "metadata": {},
     "output_type": "display_data"
    },
    {
     "data": {
      "image/png": "[encoded data removed]",
      "text/plain": [
       "<Figure size 640x480 with 10 Axes>"
      ]
     },
     "metadata": {},
     "output_type": "display_data"
    }
   ],
   "source": [
    "print(train_history.history)\n",
    "loss = train_history.history['loss']\n",
    "val_loss = train_history.history['val_loss']\n",
    "acc = train_history.history['accuracy']\n",
    "val_acc = train_history.history['val_accuracy']\n",
    "\n",
    "plt.figure(figsize=(10,3))\n",
    "\n",
    "plt.subplot(121)\n",
    "plt.plot(loss,color='b',label='train')\n",
    "plt.ylabel('loss')\n",
    "plt.legend()\n",
    "\n",
    "plt.subplot(122)\n",
    "plt.plot(acc,color='b',label='train')\n",
    "plt.plot(val_acc,color='r',label='test')\n",
    "plt.ylabel('Accuracy')\n",
    "plt.legend()\n",
    "\n",
    "plt.figure()\n",
    "for i in range(10):\n",
    "    num = np.random.randint(1,10000)\n",
    "\n",
    "    plt.subplot(2,5,i+1)\n",
    "    plt.axis('off')\n",
    "    plt.imshow(x_test[num],cmap='gray')\n",
    "    demo = tf.reshape(X_test4D_Normalize[num],(1,28,28))\n",
    "    y_pred = np.argmax(model.predict(demo))\n",
    "    plt.title('Label: '+str(y_test[num])+'\\nPredict: '+str(y_pred))\n",
    "\n",
    "plt.show()"
   ]
  },
  {
   "cell_type": "markdown",
   "id": "9f9639ea-c4fd-4cc2-bc6e-dc4b1fc2239f",
   "metadata": {},
   "source": [
    "### Combinaison d'une interface graphique et d'un modèle formé pour reconnaître des chiffres manuscrits"
   ]
  },
  {
   "cell_type": "markdown",
   "id": "dc16d018-db1b-4eaa-89e7-308b6afa5de1",
   "metadata": {},
   "source": [
    "#### Configure GUI"
   ]
  },
  {
   "cell_type": "code",
   "execution_count": 10,
   "id": "e469a951-5a29-48a0-bce6-f76332a1a16d",
   "metadata": {},
   "outputs": [
    {
     "name": "stdout",
     "output_type": "stream",
     "text": [
      "Image saved to: save/img/text.png\n",
      "\u001b[1m1/1\u001b[0m \u001b[32m━━━━━━━━━━━━━━━━━━━━\u001b[0m\u001b[37m\u001b[0m \u001b[1m0s\u001b[0m 45ms/step\n",
      "Les chiffres manuscrits sont reconnus comme：6\n",
      "Image saved to: save/img/text.png\n",
      "\u001b[1m1/1\u001b[0m \u001b[32m━━━━━━━━━━━━━━━━━━━━\u001b[0m\u001b[37m\u001b[0m \u001b[1m0s\u001b[0m 45ms/step\n",
      "Les chiffres manuscrits sont reconnus comme：6\n",
      "Image saved to: save/img/text.png\n",
      "\u001b[1m1/1\u001b[0m \u001b[32m━━━━━━━━━━━━━━━━━━━━\u001b[0m\u001b[37m\u001b[0m \u001b[1m0s\u001b[0m 42ms/step\n",
      "Les chiffres manuscrits sont reconnus comme：3\n",
      "Image saved to: save/img/text.png\n",
      "WARNING:tensorflow:5 out of the last 14 calls to <function TensorFlowTrainer.make_predict_function.<locals>.one_step_on_data_distributed at 0x000002458D5B22A0> triggered tf.function retracing. Tracing is expensive and the excessive number of tracings could be due to (1) creating @tf.function repeatedly in a loop, (2) passing tensors with different shapes, (3) passing Python objects instead of tensors. For (1), please define your @tf.function outside of the loop. For (2), @tf.function has reduce_retracing=True option that can avoid unnecessary retracing. For (3), please refer to https://www.tensorflow.org/guide/function#controlling_retracing and https://www.tensorflow.org/api_docs/python/tf/function for  more details.\n",
      "\u001b[1m1/1\u001b[0m \u001b[32m━━━━━━━━━━━━━━━━━━━━\u001b[0m\u001b[37m\u001b[0m \u001b[1m0s\u001b[0m 42ms/step\n",
      "Les chiffres manuscrits sont reconnus comme：3\n"
     ]
    },
    {
     "ename": "SystemExit",
     "evalue": "0",
     "output_type": "error",
     "traceback": [
      "An exception has occurred, use %tb to see the full traceback.\n",
      "\u001b[1;31mSystemExit\u001b[0m\u001b[1;31m:\u001b[0m 0\n"
     ]
    },
    {
     "name": "stderr",
     "output_type": "stream",
     "text": [
      "D:\\Code\\Python\\Lib\\site-packages\\IPython\\core\\interactiveshell.py:3585: UserWarning: To exit: use 'exit', 'quit', or Ctrl-D.\n",
      "  warn(\"To exit: use 'exit', 'quit', or Ctrl-D.\", stacklevel=1)\n"
     ]
    }
   ],
   "source": [
    "from PyQt5.Qt import QWidget, QColor, QPixmap, QIcon, QSize, QCheckBox\n",
    "from PyQt5.QtWidgets import QHBoxLayout, QVBoxLayout, QPushButton, QSplitter, QComboBox, QLabel, QSpinBox, QFileDialog, QGraphicsView, QGraphicsScene, QGraphicsPixmapItem\n",
    "from PyQt5.QtGui import QPainter, QPen, QImage, QMouseEvent\n",
    "from PyQt5.QtCore import Qt, QPoint\n",
    "from IPython.display import clear_output\n",
    "\n",
    "\n",
    "class PaintBoard(QGraphicsView):\n",
    "    def __init__(self, parent=None):\n",
    "        super().__init__(parent)\n",
    "        self.scene = QGraphicsScene(self)\n",
    "        self.setScene(self.scene)\n",
    "\n",
    "        self.image = QImage(28, 28, QImage.Format_ARGB32)\n",
    "        self.image.fill(Qt.white)\n",
    "\n",
    "        self.penColor = QColor(\"black\")\n",
    "        self.penThickness = 1\n",
    "        self.drawing = False\n",
    "        self.lastPoint = QPoint()\n",
    "\n",
    "        self.setFixedSize(280, 280)\n",
    "        self.scene.setSceneRect(0, 0, 28, 28)\n",
    "        self.scale(10, 10)\n",
    "\n",
    "    def mousePressEvent(self, event):\n",
    "        if event.button() == Qt.LeftButton:\n",
    "            self.drawing = True\n",
    "            self.lastPoint = self.mapToScene(event.pos()).toPoint()\n",
    "\n",
    "    def mouseMoveEvent(self, event):\n",
    "        if self.drawing:\n",
    "            currentPoint = self.mapToScene(event.pos()).toPoint()\n",
    "            painter = QPainter(self.image)\n",
    "            pen = QPen(self.penColor, self.penThickness, Qt.SolidLine, Qt.RoundCap, Qt.RoundJoin)\n",
    "            painter.setPen(pen)\n",
    "            painter.drawLine(self.lastPoint, currentPoint)\n",
    "            self.lastPoint = currentPoint\n",
    "            self.scene.clear()\n",
    "            self.scene.addPixmap(QPixmap.fromImage(self.image))\n",
    "            self.update()\n",
    "\n",
    "    def mouseReleaseEvent(self, event):\n",
    "        if event.button() == Qt.LeftButton:\n",
    "            self.drawing = False\n",
    "\n",
    "    def clear(self):\n",
    "        self.image.fill(Qt.white)\n",
    "        self.scene.clear()\n",
    "        self.scene.addPixmap(QPixmap.fromImage(self.image))\n",
    "\n",
    "    def changePenColor(self, color):\n",
    "        self.penColor = QColor(color)\n",
    "\n",
    "    def changePenThickness(self, thickness):\n",
    "        self.penThickness = thickness\n",
    "\n",
    "    def getContentAsQImage(self):\n",
    "        return self.image\n",
    "\n",
    "\n",
    "class MainWidget(QWidget):\n",
    "    def __init__(self, Parent=None):\n",
    "        super().__init__(Parent)\n",
    "        self.__InitData()\n",
    "        self.__InitView()\n",
    "\n",
    "    def __InitData(self):\n",
    "        self.__paintBoard = PaintBoard(self)\n",
    "        self.__colorList = QColor.colorNames()\n",
    "\n",
    "    def __InitView(self):\n",
    "        self.setFixedSize(640, 480)\n",
    "        self.setWindowTitle(\"Reconnaître des chiffres manuscrits\")\n",
    "\n",
    "        main_layout = QHBoxLayout(self)\n",
    "        main_layout.setSpacing(10)\n",
    "        main_layout.addWidget(self.__paintBoard)\n",
    "\n",
    "        sub_layout = QVBoxLayout()\n",
    "        sub_layout.setContentsMargins(5, 5, 5, 5)\n",
    "        splitter = QSplitter(self)\n",
    "        sub_layout.addWidget(splitter)\n",
    "\n",
    "        self.__btn_Recognize = QPushButton(\"Reconnaître\")\n",
    "        self.__btn_Recognize.clicked.connect(self.on_btn_Recognize_Clicked)\n",
    "        sub_layout.addWidget(self.__btn_Recognize)\n",
    "\n",
    "        self.__btn_Clear = QPushButton(\"Nettoyer la table\")\n",
    "        self.__btn_Clear.clicked.connect(self.__paintBoard.clear)\n",
    "        sub_layout.addWidget(self.__btn_Clear)\n",
    "\n",
    "        self.__btn_Quit = QPushButton(\"Quit\")\n",
    "        self.__btn_Quit.clicked.connect(self.close)\n",
    "        #self.__btn_Quit.clicked.connect(clear_output)\n",
    "        sub_layout.addWidget(self.__btn_Quit)\n",
    "\n",
    "        self.__btn_Save = QPushButton(\"Save\")\n",
    "        self.__btn_Save.clicked.connect(self.on_btn_Save_Clicked)\n",
    "        sub_layout.addWidget(self.__btn_Save)\n",
    "\n",
    "        self.__cbtn_Eraser = QCheckBox(\"Utilisation de la gomme\")\n",
    "        self.__cbtn_Eraser.clicked.connect(self.on_cbtn_Eraser_clicked)\n",
    "        sub_layout.addWidget(self.__cbtn_Eraser)\n",
    "\n",
    "        self.__label_penThickness = QLabel(self)\n",
    "        self.__label_penThickness.setText(\"Epaisseur de la brosse\")\n",
    "        self.__label_penThickness.setFixedHeight(20)\n",
    "        sub_layout.addWidget(self.__label_penThickness)\n",
    "\n",
    "        self.__spinBox_penThickness = QSpinBox(self)\n",
    "        self.__spinBox_penThickness.setMaximum(20)\n",
    "        self.__spinBox_penThickness.setMinimum(2)\n",
    "        self.__spinBox_penThickness.setValue(10)\n",
    "        self.__spinBox_penThickness.setSingleStep(2)\n",
    "        self.__spinBox_penThickness.valueChanged.connect(self.on_PenThicknessChange)\n",
    "        sub_layout.addWidget(self.__spinBox_penThickness)\n",
    "\n",
    "        self.__label_penColor = QLabel(self)\n",
    "        self.__label_penColor.setText(\"Couleur du pinceau\")\n",
    "        self.__label_penColor.setFixedHeight(20)\n",
    "        sub_layout.addWidget(self.__label_penColor)\n",
    "\n",
    "        self.__comboBox_penColor = QComboBox(self)\n",
    "        self.__fillColorList(self.__comboBox_penColor)\n",
    "        self.__comboBox_penColor.currentIndexChanged.connect(self.on_PenColorChange)\n",
    "        sub_layout.addWidget(self.__comboBox_penColor)\n",
    "\n",
    "        main_layout.addLayout(sub_layout)\n",
    "\n",
    "    def __fillColorList(self, comboBox):\n",
    "        index_black = 0\n",
    "        index = 0\n",
    "        for color in self.__colorList:\n",
    "            if color == \"black\":\n",
    "                index_black = index\n",
    "            index += 1\n",
    "            pix = QPixmap(70, 20)\n",
    "            pix.fill(QColor(color))\n",
    "            comboBox.addItem(QIcon(pix), None)\n",
    "            comboBox.setIconSize(QSize(70, 20))\n",
    "            comboBox.setSizeAdjustPolicy(QComboBox.AdjustToContents)\n",
    "        comboBox.setCurrentIndex(index_black)\n",
    "    \n",
    "    def on_PenColorChange(self):\n",
    "        color_index = self.__comboBox_penColor.currentIndex()\n",
    "        color_str = self.__colorList[color_index]\n",
    "        self.__paintBoard.changePenColor(color_str)\n",
    "\n",
    "    def on_PenThicknessChange(self):\n",
    "        penThickness = self.__spinBox_penThickness.value()\n",
    "        self.__paintBoard.changePenThickness(penThickness)\n",
    "\n",
    "    def on_btn_Save_Clicked(self):\n",
    "        savePath = QFileDialog.getSaveFileName(self, 'Save Your Paint', '.\\\\', '*.png')\n",
    "        if savePath[0] == \"\":\n",
    "            print(\"Save canceled\")\n",
    "            return\n",
    "        image = self.__paintBoard.getContentAsQImage()\n",
    "        image.save(savePath[0])\n",
    "        print(f\"Image saved to: {savePath[0]}\")\n",
    "\n",
    "    def on_cbtn_Eraser_clicked(self):\n",
    "        if self.__cbtn_Eraser.isChecked():\n",
    "            self.__paintBoard.changePenColor(\"white\")\n",
    "        else:\n",
    "            self.__paintBoard.changePenColor(\"black\")\n",
    "\n",
    "    def on_btn_Recognize_Clicked(self):\n",
    "        savePath = \"save/img/text.png\"\n",
    "        image = self.__paintBoard.getContentAsQImage()\n",
    "        image.save(savePath)\n",
    "        print(f\"Image saved to: {savePath}\")\n",
    "\n",
    "        img = keras.preprocessing.image.load_img(savePath, target_size=(28, 28))\n",
    "        img = img.convert('L')\n",
    "        x = keras.preprocessing.image.img_to_array(img)\n",
    "        x = abs(255-x)\n",
    "        #x = x.reshape(28,28)\n",
    "        x = np.expand_dims(x, axis=0)  \n",
    "        x=x/255.0\n",
    "        new_model = keras.models.load_model('save/modelMnist1.keras')\n",
    "        prediction = new_model.predict(x)\n",
    "        output = np.argmax(prediction, axis=1)\n",
    "        print(\"Les chiffres manuscrits sont reconnus comme：\" + str(output[0]))\n",
    "\n",
    "\n",
    "if __name__ == \"__main__\":\n",
    "    import sys\n",
    "    from PyQt5.QtWidgets import QApplication\n",
    "    app = QApplication(sys.argv)\n",
    "    mainWindow = MainWidget()\n",
    "    mainWindow.show()\n",
    "    sys.exit(app.exec_())\n"
   ]
  }
 ],
 "metadata": {
  "kernelspec": {
   "display_name": "Python 3 (ipykernel)",
   "language": "python",
   "name": "python3"
  },
  "language_info": {
   "codemirror_mode": {
    "name": "ipython",
    "version": 3
   },
   "file_extension": ".py",
   "mimetype": "text/x-python",
   "name": "python",
   "nbconvert_exporter": "python",
   "pygments_lexer": "ipython3",
   "version": "3.12.4"
  }
 },
 "nbformat": 4,
 "nbformat_minor": 5
}
